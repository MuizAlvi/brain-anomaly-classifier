{
  "nbformat": 4,
  "nbformat_minor": 0,
  "metadata": {
    "colab": {
      "name": "Code.ipynb",
      "provenance": [],
      "collapsed_sections": []
    },
    "kernelspec": {
      "name": "python3",
      "display_name": "Python 3"
    },
    "accelerator": "GPU"
  },
  "cells": [
    {
      "cell_type": "code",
      "metadata": {
        "id": "ThIJCAOzEFX0"
      },
      "source": [
        "import pandas as pd\r\n",
        "import numpy as np\r\n",
        "%matplotlib inline\r\n",
        "import matplotlib.pyplot as plt\r\n",
        "from os import listdir\r\n",
        "from keras.preprocessing import sequence\r\n",
        "import tensorflow as tf\r\n",
        "from keras.models import Sequential\r\n",
        "from keras.layers import Dense\r\n",
        "from keras.layers import LSTM"
      ],
      "execution_count": 1,
      "outputs": []
    },
    {
      "cell_type": "code",
      "metadata": {
        "id": "1FHwHtY2EIKT"
      },
      "source": [
        "from keras.optimizers import Adam\r\n",
        "from keras.models import load_model\r\n",
        "from keras.callbacks import ModelCheckpoint"
      ],
      "execution_count": 2,
      "outputs": []
    },
    {
      "cell_type": "markdown",
      "metadata": {
        "id": "GaACklHm16eh"
      },
      "source": [
        "Reading EEG files"
      ]
    },
    {
      "cell_type": "code",
      "metadata": {
        "colab": {
          "base_uri": "https://localhost:8080/"
        },
        "id": "5W81pKeIJPrU",
        "outputId": "99f1eec3-98b8-4c4e-885b-17f26fb0d2cc"
      },
      "source": [
        "GOOGLE_COLAB = True\r\n",
        "path = \"\"\r\n",
        "if GOOGLE_COLAB:\r\n",
        "  from google.colab import drive, files\r\n",
        "  drive.mount('/content/drive/')\r\n",
        "  path = \"/content/drive/My Drive/Colab Notebooks/dataset_edf/\""
      ],
      "execution_count": 3,
      "outputs": [
        {
          "output_type": "stream",
          "text": [
            "Mounted at /content/drive/\n"
          ],
          "name": "stdout"
        }
      ]
    },
    {
      "cell_type": "code",
      "metadata": {
        "colab": {
          "base_uri": "https://localhost:8080/"
        },
        "id": "h3ZjS0meELcR",
        "outputId": "66fabd15-49ab-4643-e01e-76da283154a4"
      },
      "source": [
        "!pip install -U mne\r\n",
        "import mne\r\n",
        "sequences = list()\r\n",
        "for i in range(1,11):\r\n",
        "    file_path = path + 'file_' + str(i) + '.edf'\r\n",
        "    data = mne.io.read_raw_edf(file_path)\r\n",
        "    values = data.get_data()\r\n",
        "    sequences.append(values)\r\n",
        "\r\n",
        "targets = ['normal', 'normal', 'normal', 'normal', 'normal', 'abnormal', 'abnormal', 'abnormal', 'abnormal', 'abnormal']"
      ],
      "execution_count": 4,
      "outputs": [
        {
          "output_type": "stream",
          "text": [
            "Collecting mne\n",
            "\u001b[?25l  Downloading https://files.pythonhosted.org/packages/17/a8/7d8a10345082d4807907a268016b52dfa869b0c412cd84aa1d1de86e1e39/mne-0.22.0-py3-none-any.whl (6.9MB)\n",
            "\u001b[K     |████████████████████████████████| 6.9MB 12.7MB/s \n",
            "\u001b[?25hRequirement already satisfied, skipping upgrade: scipy>=0.17.1 in /usr/local/lib/python3.7/dist-packages (from mne) (1.4.1)\n",
            "Requirement already satisfied, skipping upgrade: numpy>=1.11.3 in /usr/local/lib/python3.7/dist-packages (from mne) (1.19.5)\n",
            "Installing collected packages: mne\n",
            "Successfully installed mne-0.22.0\n",
            "Extracting EDF parameters from /content/drive/My Drive/Colab Notebooks/dataset_edf/file_1.edf...\n",
            "EDF file detected\n",
            "Setting channel info structure...\n",
            "Creating raw.info structure...\n",
            "Extracting EDF parameters from /content/drive/My Drive/Colab Notebooks/dataset_edf/file_2.edf...\n",
            "EDF file detected\n",
            "Setting channel info structure...\n",
            "Creating raw.info structure...\n",
            "Extracting EDF parameters from /content/drive/My Drive/Colab Notebooks/dataset_edf/file_3.edf...\n",
            "EDF file detected\n",
            "Setting channel info structure...\n",
            "Creating raw.info structure...\n",
            "Extracting EDF parameters from /content/drive/My Drive/Colab Notebooks/dataset_edf/file_4.edf...\n",
            "EDF file detected\n",
            "Setting channel info structure...\n",
            "Creating raw.info structure...\n",
            "Extracting EDF parameters from /content/drive/My Drive/Colab Notebooks/dataset_edf/file_5.edf...\n",
            "EDF file detected\n",
            "Setting channel info structure...\n",
            "Creating raw.info structure...\n",
            "Extracting EDF parameters from /content/drive/My Drive/Colab Notebooks/dataset_edf/file_6.edf...\n",
            "EDF file detected\n",
            "Setting channel info structure...\n",
            "Creating raw.info structure...\n",
            "Extracting EDF parameters from /content/drive/My Drive/Colab Notebooks/dataset_edf/file_7.edf...\n",
            "EDF file detected\n",
            "Setting channel info structure...\n",
            "Creating raw.info structure...\n",
            "Extracting EDF parameters from /content/drive/My Drive/Colab Notebooks/dataset_edf/file_8.edf...\n",
            "EDF file detected\n",
            "Setting channel info structure...\n",
            "Creating raw.info structure...\n",
            "Extracting EDF parameters from /content/drive/My Drive/Colab Notebooks/dataset_edf/file_9.edf...\n",
            "EDF file detected\n",
            "Setting channel info structure...\n",
            "Creating raw.info structure...\n",
            "Extracting EDF parameters from /content/drive/My Drive/Colab Notebooks/dataset_edf/file_10.edf...\n",
            "EDF file detected\n",
            "Setting channel info structure...\n",
            "Creating raw.info structure...\n"
          ],
          "name": "stdout"
        }
      ]
    },
    {
      "cell_type": "markdown",
      "metadata": {
        "id": "9I37wLmpc715"
      },
      "source": [
        "Preprocessing Data"
      ]
    },
    {
      "cell_type": "code",
      "metadata": {
        "colab": {
          "base_uri": "https://localhost:8080/"
        },
        "id": "Km4tQINPIVQu",
        "outputId": "17ed57c5-2d1b-4422-e8f6-98665c0c0eaf"
      },
      "source": [
        "sequences[0]"
      ],
      "execution_count": 5,
      "outputs": [
        {
          "output_type": "execute_result",
          "data": {
            "text/plain": [
              "array([[-5.28216654e-08, -2.60993696e-08, -2.88606226e-09, ...,\n",
              "         2.90972763e-11, -7.90661479e-09, -1.96832685e-09],\n",
              "       [-1.78937063e-07, -3.51408469e-08, -3.58324254e-09, ...,\n",
              "        -7.97777475e-08,  1.13971142e-08,  4.07494884e-08],\n",
              "       [ 5.68357801e-08, -8.60206409e-09, -2.64540699e-08, ...,\n",
              "        -9.29454751e-08, -2.27666064e-08, -1.09433107e-08],\n",
              "       ...,\n",
              "       [-3.61376883e-08,  6.07795285e-08,  8.62899223e-08, ...,\n",
              "        -1.28320443e-07, -3.89783653e-08,  1.75566778e-08],\n",
              "       [-8.29103243e-09, -6.83575502e-09, -6.58910903e-10, ...,\n",
              "        -1.15573217e-08, -2.38139915e-08, -3.08316625e-08],\n",
              "       [-8.29103243e-09, -6.83575502e-09, -6.58910903e-10, ...,\n",
              "        -1.15573217e-08, -2.38139915e-08, -3.08316625e-08]])"
            ]
          },
          "metadata": {
            "tags": []
          },
          "execution_count": 5
        }
      ]
    },
    {
      "cell_type": "code",
      "metadata": {
        "id": "_zqRb-8fIanw",
        "colab": {
          "base_uri": "https://localhost:8080/"
        },
        "outputId": "e86cbdeb-91c9-4374-d1b4-ee2bbb523940"
      },
      "source": [
        "for i in range(0, 10):\r\n",
        "  [row,col] = sequences[i].shape\r\n",
        "  print(sequences[i].shape)\r\n"
      ],
      "execution_count": 7,
      "outputs": [
        {
          "output_type": "stream",
          "text": [
            "(21, 224000)\n",
            "(21, 190500)\n",
            "(21, 195000)\n",
            "(21, 202750)\n",
            "(21, 195250)\n",
            "(21, 149250)\n",
            "(21, 162500)\n",
            "(21, 211000)\n",
            "(21, 196250)\n",
            "(21, 171250)\n"
          ],
          "name": "stdout"
        }
      ]
    },
    {
      "cell_type": "markdown",
      "metadata": {
        "id": "E9IIgWEnjEBS"
      },
      "source": [
        "Preprocessing Data"
      ]
    },
    {
      "cell_type": "code",
      "metadata": {
        "id": "t-E1sUg_jG-0"
      },
      "source": [
        ""
      ],
      "execution_count": null,
      "outputs": []
    }
  ]
}