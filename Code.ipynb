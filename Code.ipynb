{
  "nbformat": 4,
  "nbformat_minor": 0,
  "metadata": {
    "colab": {
      "name": "Code.ipynb",
      "provenance": [],
      "collapsed_sections": []
    },
    "kernelspec": {
      "name": "python3",
      "display_name": "Python 3"
    },
    "accelerator": "GPU"
  },
  "cells": [
    {
      "cell_type": "markdown",
      "metadata": {
        "id": "twAoNftRvtyY"
      },
      "source": [
        "### MUIZ ALVI\r\n",
        "#### 263791 "
      ]
    },
    {
      "cell_type": "code",
      "metadata": {
        "id": "ThIJCAOzEFX0"
      },
      "source": [
        "import pandas as pd\r\n",
        "import numpy as np\r\n",
        "%matplotlib inline\r\n",
        "import matplotlib.pyplot as plt\r\n",
        "from os import listdir\r\n",
        "from keras.preprocessing import sequence\r\n",
        "import tensorflow as tf\r\n",
        "from keras.models import Sequential\r\n",
        "from keras.layers import Dense\r\n",
        "from keras.layers import LSTM\r\n",
        "from keras.layers import Activation, Flatten, BatchNormalization, Conv2D, MaxPool2D, Dropout\r\n",
        "from keras.optimizers import Adam\r\n",
        "from keras.metrics import categorical_crossentropy\r\n",
        "from keras.preprocessing.image import ImageDataGenerator\r\n",
        "from sklearn.metrics import confusion_matrix"
      ],
      "execution_count": 27,
      "outputs": []
    },
    {
      "cell_type": "code",
      "metadata": {
        "id": "1FHwHtY2EIKT"
      },
      "source": [
        "from keras.optimizers import Adam\r\n",
        "from keras.models import load_model\r\n",
        "from keras.callbacks import ModelCheckpoint"
      ],
      "execution_count": 4,
      "outputs": []
    },
    {
      "cell_type": "markdown",
      "metadata": {
        "id": "GaACklHm16eh"
      },
      "source": [
        "### Reading EDF files"
      ]
    },
    {
      "cell_type": "code",
      "metadata": {
        "colab": {
          "base_uri": "https://localhost:8080/"
        },
        "id": "5W81pKeIJPrU",
        "outputId": "3f348c47-cbf8-41b9-bfc9-8f8a2dc36bed"
      },
      "source": [
        "GOOGLE_COLAB = True\r\n",
        "path = \"\"\r\n",
        "if GOOGLE_COLAB:\r\n",
        "  from google.colab import drive, files\r\n",
        "  drive.mount('/content/drive/')\r\n",
        "  path = \"/content/drive/My Drive/Colab Notebooks/dataset_edf/\""
      ],
      "execution_count": 5,
      "outputs": [
        {
          "output_type": "stream",
          "text": [
            "Drive already mounted at /content/drive/; to attempt to forcibly remount, call drive.mount(\"/content/drive/\", force_remount=True).\n"
          ],
          "name": "stdout"
        }
      ]
    },
    {
      "cell_type": "code",
      "metadata": {
        "colab": {
          "base_uri": "https://localhost:8080/"
        },
        "id": "h3ZjS0meELcR",
        "outputId": "5c7cb170-b32e-484d-8951-ef6df7792dba"
      },
      "source": [
        "!pip install -U mne\r\n",
        "import mne\r\n",
        "sequences = list()\r\n",
        "for i in range(1,11):\r\n",
        "    file_path = path + 'file_' + str(i) + '.edf'\r\n",
        "    data = mne.io.read_raw_edf(file_path)\r\n",
        "    values = data.get_data()\r\n",
        "    sequences.append(values)\r\n",
        "\r\n",
        "targets = ['normal', 'normal', 'normal', 'normal', 'normal', 'abnormal', 'abnormal', 'abnormal', 'abnormal', 'abnormal']"
      ],
      "execution_count": 6,
      "outputs": [
        {
          "output_type": "stream",
          "text": [
            "Requirement already up-to-date: mne in /usr/local/lib/python3.7/dist-packages (0.22.0)\n",
            "Requirement already satisfied, skipping upgrade: scipy>=0.17.1 in /usr/local/lib/python3.7/dist-packages (from mne) (1.4.1)\n",
            "Requirement already satisfied, skipping upgrade: numpy>=1.11.3 in /usr/local/lib/python3.7/dist-packages (from mne) (1.19.5)\n",
            "Extracting EDF parameters from /content/drive/My Drive/Colab Notebooks/dataset_edf/file_1.edf...\n",
            "EDF file detected\n",
            "Setting channel info structure...\n",
            "Creating raw.info structure...\n",
            "Extracting EDF parameters from /content/drive/My Drive/Colab Notebooks/dataset_edf/file_2.edf...\n",
            "EDF file detected\n",
            "Setting channel info structure...\n",
            "Creating raw.info structure...\n",
            "Extracting EDF parameters from /content/drive/My Drive/Colab Notebooks/dataset_edf/file_3.edf...\n",
            "EDF file detected\n",
            "Setting channel info structure...\n",
            "Creating raw.info structure...\n",
            "Extracting EDF parameters from /content/drive/My Drive/Colab Notebooks/dataset_edf/file_4.edf...\n",
            "EDF file detected\n",
            "Setting channel info structure...\n",
            "Creating raw.info structure...\n",
            "Extracting EDF parameters from /content/drive/My Drive/Colab Notebooks/dataset_edf/file_5.edf...\n",
            "EDF file detected\n",
            "Setting channel info structure...\n",
            "Creating raw.info structure...\n",
            "Extracting EDF parameters from /content/drive/My Drive/Colab Notebooks/dataset_edf/file_6.edf...\n",
            "EDF file detected\n",
            "Setting channel info structure...\n",
            "Creating raw.info structure...\n",
            "Extracting EDF parameters from /content/drive/My Drive/Colab Notebooks/dataset_edf/file_7.edf...\n",
            "EDF file detected\n",
            "Setting channel info structure...\n",
            "Creating raw.info structure...\n",
            "Extracting EDF parameters from /content/drive/My Drive/Colab Notebooks/dataset_edf/file_8.edf...\n",
            "EDF file detected\n",
            "Setting channel info structure...\n",
            "Creating raw.info structure...\n",
            "Extracting EDF parameters from /content/drive/My Drive/Colab Notebooks/dataset_edf/file_9.edf...\n",
            "EDF file detected\n",
            "Setting channel info structure...\n",
            "Creating raw.info structure...\n",
            "Extracting EDF parameters from /content/drive/My Drive/Colab Notebooks/dataset_edf/file_10.edf...\n",
            "EDF file detected\n",
            "Setting channel info structure...\n",
            "Creating raw.info structure...\n"
          ],
          "name": "stdout"
        }
      ]
    },
    {
      "cell_type": "code",
      "metadata": {
        "colab": {
          "base_uri": "https://localhost:8080/"
        },
        "id": "Km4tQINPIVQu",
        "outputId": "dd4867eb-6786-431d-8689-f2920f7426be"
      },
      "source": [
        "sequences[0]"
      ],
      "execution_count": 7,
      "outputs": [
        {
          "output_type": "execute_result",
          "data": {
            "text/plain": [
              "array([[-5.28216654e-08, -2.60993696e-08, -2.88606226e-09, ...,\n",
              "         2.90972763e-11, -7.90661479e-09, -1.96832685e-09],\n",
              "       [-1.78937063e-07, -3.51408469e-08, -3.58324254e-09, ...,\n",
              "        -7.97777475e-08,  1.13971142e-08,  4.07494884e-08],\n",
              "       [ 5.68357801e-08, -8.60206409e-09, -2.64540699e-08, ...,\n",
              "        -9.29454751e-08, -2.27666064e-08, -1.09433107e-08],\n",
              "       ...,\n",
              "       [-3.61376883e-08,  6.07795285e-08,  8.62899223e-08, ...,\n",
              "        -1.28320443e-07, -3.89783653e-08,  1.75566778e-08],\n",
              "       [-8.29103243e-09, -6.83575502e-09, -6.58910903e-10, ...,\n",
              "        -1.15573217e-08, -2.38139915e-08, -3.08316625e-08],\n",
              "       [-8.29103243e-09, -6.83575502e-09, -6.58910903e-10, ...,\n",
              "        -1.15573217e-08, -2.38139915e-08, -3.08316625e-08]])"
            ]
          },
          "metadata": {
            "tags": []
          },
          "execution_count": 7
        }
      ]
    },
    {
      "cell_type": "markdown",
      "metadata": {
        "id": "9I37wLmpc715"
      },
      "source": [
        "### Preprocessing Data"
      ]
    },
    {
      "cell_type": "code",
      "metadata": {
        "id": "_zqRb-8fIanw",
        "colab": {
          "base_uri": "https://localhost:8080/"
        },
        "outputId": "80dec9ea-e1e1-41bc-e4e5-e4fe999e5a57"
      },
      "source": [
        "for i in range(0, 10):\r\n",
        "  [row,col] = sequences[i].shape\r\n",
        "  print(sequences[i].shape)\r\n"
      ],
      "execution_count": 8,
      "outputs": [
        {
          "output_type": "stream",
          "text": [
            "(21, 224000)\n",
            "(21, 190500)\n",
            "(21, 195000)\n",
            "(21, 202750)\n",
            "(21, 195250)\n",
            "(21, 149250)\n",
            "(21, 162500)\n",
            "(21, 211000)\n",
            "(21, 196250)\n",
            "(21, 171250)\n"
          ],
          "name": "stdout"
        }
      ]
    },
    {
      "cell_type": "code",
      "metadata": {
        "colab": {
          "base_uri": "https://localhost:8080/"
        },
        "id": "c5VNE4Wwlx2_",
        "outputId": "87deadf3-803a-4c89-9c2b-e7385090dedd"
      },
      "source": [
        "len_sequences = []\r\n",
        "for i in range(0,10):\r\n",
        "  for j in range(0,21):\r\n",
        "    len_sequences.append(len(sequences[i][j]))\r\n",
        "pd.Series(len_sequences).describe()"
      ],
      "execution_count": 9,
      "outputs": [
        {
          "output_type": "execute_result",
          "data": {
            "text/plain": [
              "count       210.000000\n",
              "mean     189775.000000\n",
              "std       21543.927668\n",
              "min      149250.000000\n",
              "25%      171250.000000\n",
              "50%      195125.000000\n",
              "75%      202750.000000\n",
              "max      224000.000000\n",
              "dtype: float64"
            ]
          },
          "metadata": {
            "tags": []
          },
          "execution_count": 9
        }
      ]
    },
    {
      "cell_type": "code",
      "metadata": {
        "id": "t-E1sUg_jG-0"
      },
      "source": [
        "#Padding the sequence with the values in last coloumn to max length\r\n",
        "new_seq = np.zeros((10, 21, 224000))\r\n",
        "to_pad = 224000\r\n",
        "for i in range(0,10):\r\n",
        "  for j in range(0,21):\r\n",
        "    len_one_seq = len(sequences[i][j])\r\n",
        "    last_val = sequences[i][j][-1]\r\n",
        "    n = to_pad - len_one_seq\r\n",
        "    new_seq [i][j] = np.concatenate([sequences[i][j], np.zeros(n)])"
      ],
      "execution_count": 10,
      "outputs": []
    },
    {
      "cell_type": "code",
      "metadata": {
        "colab": {
          "base_uri": "https://localhost:8080/"
        },
        "id": "8dFf6zoDo6mO",
        "outputId": "9621abc2-2bf4-4bca-b6e5-615b92b71530"
      },
      "source": [
        "for i in range(0, 10):\r\n",
        "  [row,col] = new_seq[i].shape\r\n",
        "  print(new_seq[i].shape)"
      ],
      "execution_count": 11,
      "outputs": [
        {
          "output_type": "stream",
          "text": [
            "(21, 224000)\n",
            "(21, 224000)\n",
            "(21, 224000)\n",
            "(21, 224000)\n",
            "(21, 224000)\n",
            "(21, 224000)\n",
            "(21, 224000)\n",
            "(21, 224000)\n",
            "(21, 224000)\n",
            "(21, 224000)\n"
          ],
          "name": "stdout"
        }
      ]
    },
    {
      "cell_type": "code",
      "metadata": {
        "colab": {
          "base_uri": "https://localhost:8080/"
        },
        "id": "5mmXO2qyq07U",
        "outputId": "926091a9-a070-4548-88c4-63fa5ed04036"
      },
      "source": [
        "new_seq.shape"
      ],
      "execution_count": 12,
      "outputs": [
        {
          "output_type": "execute_result",
          "data": {
            "text/plain": [
              "(10, 21, 224000)"
            ]
          },
          "metadata": {
            "tags": []
          },
          "execution_count": 12
        }
      ]
    },
    {
      "cell_type": "code",
      "metadata": {
        "id": "6lEh8v1Rs6dS"
      },
      "source": [
        "final_seq = new_seq.reshape((392, 60, 2000))  "
      ],
      "execution_count": 31,
      "outputs": []
    },
    {
      "cell_type": "code",
      "metadata": {
        "colab": {
          "base_uri": "https://localhost:8080/"
        },
        "id": "5dkbn--vvHoT",
        "outputId": "ed78a782-39ae-439c-873f-9ae10fb1be7a"
      },
      "source": [
        "final_seq.shape"
      ],
      "execution_count": 32,
      "outputs": [
        {
          "output_type": "execute_result",
          "data": {
            "text/plain": [
              "(392, 60, 2000)"
            ]
          },
          "metadata": {
            "tags": []
          },
          "execution_count": 32
        }
      ]
    },
    {
      "cell_type": "code",
      "metadata": {
        "id": "6CKFpscdzeD4"
      },
      "source": [
        "path = \"/content/drive/My Drive/Colab Notebooks/dataset_edf/\"\r\n",
        "for i in range(0,196):\r\n",
        "    file_path = path + 'normal.' + str(i) + '.edf'\r\n",
        "    data = mne.io.read_raw_edf(file_path)\r\n",
        "    values = data.get_data()\r\n",
        "    sequences.append(values)"
      ],
      "execution_count": null,
      "outputs": []
    },
    {
      "cell_type": "code",
      "metadata": {
        "id": "YgjQF3jWyY-W"
      },
      "source": [
        "# Organize data into train, valid, test dirs\r\n",
        "\r\n",
        "os.chdir('abnormal-vs-normal')\r\n",
        "if os.path.isdir('train/abnormal') is False:\r\n",
        "    os.makedirs('train/abnormal')\r\n",
        "    os.makedirs('train/normal')\r\n",
        "    os.makedirs('valid/abnormal')\r\n",
        "    os.makedirs('valid/normal')\r\n",
        "    os.makedirs('test/abnormal')\r\n",
        "    os.makedirs('test/normal')\r\n",
        "    \r\n",
        "    for c in random.sample(glob.glob('normal*'), 120):\r\n",
        "        shutil.move(c, 'train/normal')\r\n",
        "    for c in random.sample(glob.glob('abnormal*'), 120):\r\n",
        "        shutil.move(c, 'train/abnormal')\r\n",
        "    for c in random.sample(glob.glob('normal*'), 40):\r\n",
        "        shutil.move(c, 'valid/normal')\r\n",
        "    for c in random.sample(glob.glob('abnormal*'), 40):\r\n",
        "        shutil.move(c, 'valid/abnormal')\r\n",
        "    for c in random.sample(glob.glob('normal*'), 36):\r\n",
        "        shutil.move(c, 'test/normal')\r\n",
        "    for c in random.sample(glob.glob('abnormal*'), 36):\r\n",
        "        shutil.move(c, 'test/abnormal')\r\n",
        "    \r\n",
        "os.chdir('../../')"
      ],
      "execution_count": null,
      "outputs": []
    },
    {
      "cell_type": "markdown",
      "metadata": {
        "id": "C8pVdak2vqZw"
      },
      "source": [
        "#### Building LSTM for preprocessing"
      ]
    },
    {
      "cell_type": "code",
      "metadata": {
        "id": "ggzH0TYxnXbd"
      },
      "source": [
        "model = Sequential()\r\n",
        "\r\n",
        "model.add(LSTM(units = 50, return_sequences = True, input_shape = (60, 2000)))\r\n",
        "model.add(Dropout(0.2))\r\n",
        "model.add(LSTM(units = 50, return_sequences = True))\r\n",
        "model.add(Dropout(0.2))\r\n",
        "model.add(LSTM(units = 50, return_sequences = True))\r\n",
        "model.add(Dropout(0.2))\r\n",
        "model.add(LSTM(units = 50))\r\n",
        "model.add(Dropout(0.2))\r\n",
        "model.add(Dense(units = 1))"
      ],
      "execution_count": 33,
      "outputs": []
    },
    {
      "cell_type": "code",
      "metadata": {
        "id": "EO677tjIyK_j"
      },
      "source": [
        "train_path = '/content/drive/My Drive/Colab Notebooks/dataset_edf/abnormal-vs-normal/train/'\r\n",
        "valid_path = '/content/drive/My Drive/Colab Notebooks/dataset_edf/abnormal-vs-normal/valid/'\r\n",
        "test_path = '/content/drive/My Drive/Colab Notebooks/dataset_edf/abnormal-vs-normal/test/'"
      ],
      "execution_count": null,
      "outputs": []
    },
    {
      "cell_type": "code",
      "metadata": {
        "id": "fpob2VQUhkO5"
      },
      "source": [
        "train_batches = ImageDataGenerator(preprocessing_function = model.preprocess_input) \\\r\n",
        "    .flow_from_directory(directory = train_path, target_size = (60, 2000), classes = ['normal', 'abnormal'], batch_size = 10)\r\n",
        "valid_batches = ImageDataGenerator(preprocessing_function = model.preprocess_input) \\\r\n",
        "    .flow_from_directory(directory = valid_path, target_size = (60, 2000), classes = ['normal', 'abnormal'], batch_size = 10)\r\n",
        "test_batches = ImageDataGenerator(preprocessing_function = model.preprocess_input) \\\r\n",
        "    .flow_from_directory(directory = test_path, target_size = (60, 2000), classes = ['normal', 'abnormal'], batch_size = 10, shuffle = False)"
      ],
      "execution_count": null,
      "outputs": []
    },
    {
      "cell_type": "code",
      "metadata": {
        "id": "NQE1vR7i3xIb"
      },
      "source": [
        ""
      ],
      "execution_count": null,
      "outputs": []
    }
  ]
}